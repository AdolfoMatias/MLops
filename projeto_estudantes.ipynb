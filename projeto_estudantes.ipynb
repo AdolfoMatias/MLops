{
 "cells": [
  {
   "cell_type": "markdown",
   "metadata": {},
   "source": [
    "### SUCESSO DE ESTUDANTES"
   ]
  },
  {
   "cell_type": "code",
   "execution_count": 126,
   "metadata": {},
   "outputs": [],
   "source": [
    "import pandas as pd\n",
    "import numpy as np\n",
    "import mlflow\n",
    "import matplotlib.pyplot as plt\n",
    "import seaborn as sns\n",
    "from sklearn.preprocessing import LabelEncoder, LabelBinarizer, OneHotEncoder, StandardScaler\n",
    "from sklearn.metrics import *\n",
    "from sklearn.model_selection import cross_val_score, KFold, GridSearchCV, train_test_split\n",
    "from sklearn.naive_bayes import GaussianNB\n",
    "from sklearn.tree import DecisionTreeClassifier, ExtraTreeClassifier\n",
    "from sklearn.ensemble import GradientBoostingClassifier, RandomForestClassifier\n",
    "\n",
    "%matplotlib inline"
   ]
  },
  {
   "cell_type": "markdown",
   "metadata": {},
   "source": [
    "### IMPOTANDO BASE DE DADOS"
   ]
  },
  {
   "cell_type": "code",
   "execution_count": 127,
   "metadata": {},
   "outputs": [
    {
     "data": {
      "text/html": [
       "<div>\n",
       "<style scoped>\n",
       "    .dataframe tbody tr th:only-of-type {\n",
       "        vertical-align: middle;\n",
       "    }\n",
       "\n",
       "    .dataframe tbody tr th {\n",
       "        vertical-align: top;\n",
       "    }\n",
       "\n",
       "    .dataframe thead th {\n",
       "        text-align: right;\n",
       "    }\n",
       "</style>\n",
       "<table border=\"1\" class=\"dataframe\">\n",
       "  <thead>\n",
       "    <tr style=\"text-align: right;\">\n",
       "      <th></th>\n",
       "      <th>Marital status</th>\n",
       "      <th>Application mode</th>\n",
       "      <th>Application order</th>\n",
       "      <th>Course</th>\n",
       "      <th>Daytime/evening attendance\\t</th>\n",
       "      <th>Previous qualification</th>\n",
       "      <th>Previous qualification (grade)</th>\n",
       "      <th>Nacionality</th>\n",
       "      <th>Mother's qualification</th>\n",
       "      <th>Father's qualification</th>\n",
       "      <th>...</th>\n",
       "      <th>Curricular units 2nd sem (credited)</th>\n",
       "      <th>Curricular units 2nd sem (enrolled)</th>\n",
       "      <th>Curricular units 2nd sem (evaluations)</th>\n",
       "      <th>Curricular units 2nd sem (approved)</th>\n",
       "      <th>Curricular units 2nd sem (grade)</th>\n",
       "      <th>Curricular units 2nd sem (without evaluations)</th>\n",
       "      <th>Unemployment rate</th>\n",
       "      <th>Inflation rate</th>\n",
       "      <th>GDP</th>\n",
       "      <th>Target</th>\n",
       "    </tr>\n",
       "  </thead>\n",
       "  <tbody>\n",
       "    <tr>\n",
       "      <th>0</th>\n",
       "      <td>1</td>\n",
       "      <td>17</td>\n",
       "      <td>5</td>\n",
       "      <td>171</td>\n",
       "      <td>1</td>\n",
       "      <td>1</td>\n",
       "      <td>122.0</td>\n",
       "      <td>1</td>\n",
       "      <td>19</td>\n",
       "      <td>12</td>\n",
       "      <td>...</td>\n",
       "      <td>0</td>\n",
       "      <td>0</td>\n",
       "      <td>0</td>\n",
       "      <td>0</td>\n",
       "      <td>0.000000</td>\n",
       "      <td>0</td>\n",
       "      <td>10.8</td>\n",
       "      <td>1.4</td>\n",
       "      <td>1.74</td>\n",
       "      <td>Dropout</td>\n",
       "    </tr>\n",
       "    <tr>\n",
       "      <th>1</th>\n",
       "      <td>1</td>\n",
       "      <td>15</td>\n",
       "      <td>1</td>\n",
       "      <td>9254</td>\n",
       "      <td>1</td>\n",
       "      <td>1</td>\n",
       "      <td>160.0</td>\n",
       "      <td>1</td>\n",
       "      <td>1</td>\n",
       "      <td>3</td>\n",
       "      <td>...</td>\n",
       "      <td>0</td>\n",
       "      <td>6</td>\n",
       "      <td>6</td>\n",
       "      <td>6</td>\n",
       "      <td>13.666667</td>\n",
       "      <td>0</td>\n",
       "      <td>13.9</td>\n",
       "      <td>-0.3</td>\n",
       "      <td>0.79</td>\n",
       "      <td>Graduate</td>\n",
       "    </tr>\n",
       "    <tr>\n",
       "      <th>2</th>\n",
       "      <td>1</td>\n",
       "      <td>1</td>\n",
       "      <td>5</td>\n",
       "      <td>9070</td>\n",
       "      <td>1</td>\n",
       "      <td>1</td>\n",
       "      <td>122.0</td>\n",
       "      <td>1</td>\n",
       "      <td>37</td>\n",
       "      <td>37</td>\n",
       "      <td>...</td>\n",
       "      <td>0</td>\n",
       "      <td>6</td>\n",
       "      <td>0</td>\n",
       "      <td>0</td>\n",
       "      <td>0.000000</td>\n",
       "      <td>0</td>\n",
       "      <td>10.8</td>\n",
       "      <td>1.4</td>\n",
       "      <td>1.74</td>\n",
       "      <td>Dropout</td>\n",
       "    </tr>\n",
       "    <tr>\n",
       "      <th>3</th>\n",
       "      <td>1</td>\n",
       "      <td>17</td>\n",
       "      <td>2</td>\n",
       "      <td>9773</td>\n",
       "      <td>1</td>\n",
       "      <td>1</td>\n",
       "      <td>122.0</td>\n",
       "      <td>1</td>\n",
       "      <td>38</td>\n",
       "      <td>37</td>\n",
       "      <td>...</td>\n",
       "      <td>0</td>\n",
       "      <td>6</td>\n",
       "      <td>10</td>\n",
       "      <td>5</td>\n",
       "      <td>12.400000</td>\n",
       "      <td>0</td>\n",
       "      <td>9.4</td>\n",
       "      <td>-0.8</td>\n",
       "      <td>-3.12</td>\n",
       "      <td>Graduate</td>\n",
       "    </tr>\n",
       "    <tr>\n",
       "      <th>4</th>\n",
       "      <td>2</td>\n",
       "      <td>39</td>\n",
       "      <td>1</td>\n",
       "      <td>8014</td>\n",
       "      <td>0</td>\n",
       "      <td>1</td>\n",
       "      <td>100.0</td>\n",
       "      <td>1</td>\n",
       "      <td>37</td>\n",
       "      <td>38</td>\n",
       "      <td>...</td>\n",
       "      <td>0</td>\n",
       "      <td>6</td>\n",
       "      <td>6</td>\n",
       "      <td>6</td>\n",
       "      <td>13.000000</td>\n",
       "      <td>0</td>\n",
       "      <td>13.9</td>\n",
       "      <td>-0.3</td>\n",
       "      <td>0.79</td>\n",
       "      <td>Graduate</td>\n",
       "    </tr>\n",
       "  </tbody>\n",
       "</table>\n",
       "<p>5 rows × 37 columns</p>\n",
       "</div>"
      ],
      "text/plain": [
       "   Marital status  Application mode  Application order  Course  \\\n",
       "0               1                17                  5     171   \n",
       "1               1                15                  1    9254   \n",
       "2               1                 1                  5    9070   \n",
       "3               1                17                  2    9773   \n",
       "4               2                39                  1    8014   \n",
       "\n",
       "   Daytime/evening attendance\\t  Previous qualification  \\\n",
       "0                             1                       1   \n",
       "1                             1                       1   \n",
       "2                             1                       1   \n",
       "3                             1                       1   \n",
       "4                             0                       1   \n",
       "\n",
       "   Previous qualification (grade)  Nacionality  Mother's qualification  \\\n",
       "0                           122.0            1                      19   \n",
       "1                           160.0            1                       1   \n",
       "2                           122.0            1                      37   \n",
       "3                           122.0            1                      38   \n",
       "4                           100.0            1                      37   \n",
       "\n",
       "   Father's qualification  ...  Curricular units 2nd sem (credited)  \\\n",
       "0                      12  ...                                    0   \n",
       "1                       3  ...                                    0   \n",
       "2                      37  ...                                    0   \n",
       "3                      37  ...                                    0   \n",
       "4                      38  ...                                    0   \n",
       "\n",
       "   Curricular units 2nd sem (enrolled)  \\\n",
       "0                                    0   \n",
       "1                                    6   \n",
       "2                                    6   \n",
       "3                                    6   \n",
       "4                                    6   \n",
       "\n",
       "   Curricular units 2nd sem (evaluations)  \\\n",
       "0                                       0   \n",
       "1                                       6   \n",
       "2                                       0   \n",
       "3                                      10   \n",
       "4                                       6   \n",
       "\n",
       "   Curricular units 2nd sem (approved)  Curricular units 2nd sem (grade)  \\\n",
       "0                                    0                          0.000000   \n",
       "1                                    6                         13.666667   \n",
       "2                                    0                          0.000000   \n",
       "3                                    5                         12.400000   \n",
       "4                                    6                         13.000000   \n",
       "\n",
       "   Curricular units 2nd sem (without evaluations)  Unemployment rate  \\\n",
       "0                                               0               10.8   \n",
       "1                                               0               13.9   \n",
       "2                                               0               10.8   \n",
       "3                                               0                9.4   \n",
       "4                                               0               13.9   \n",
       "\n",
       "   Inflation rate   GDP    Target  \n",
       "0             1.4  1.74   Dropout  \n",
       "1            -0.3  0.79  Graduate  \n",
       "2             1.4  1.74   Dropout  \n",
       "3            -0.8 -3.12  Graduate  \n",
       "4            -0.3  0.79  Graduate  \n",
       "\n",
       "[5 rows x 37 columns]"
      ]
     },
     "execution_count": 127,
     "metadata": {},
     "output_type": "execute_result"
    }
   ],
   "source": [
    "estudantes = pd.read_csv(\"estudantes.csv\", sep=\";\")\n",
    "estudantes.head()"
   ]
  },
  {
   "cell_type": "markdown",
   "metadata": {},
   "source": [
    "### EXPLORANDO DADOS"
   ]
  },
  {
   "cell_type": "code",
   "execution_count": 128,
   "metadata": {},
   "outputs": [
    {
     "name": "stdout",
     "output_type": "stream",
     "text": [
      "<class 'pandas.core.frame.DataFrame'>\n",
      "RangeIndex: 4424 entries, 0 to 4423\n",
      "Data columns (total 37 columns):\n",
      " #   Column                                          Non-Null Count  Dtype  \n",
      "---  ------                                          --------------  -----  \n",
      " 0   Marital status                                  4424 non-null   int64  \n",
      " 1   Application mode                                4424 non-null   int64  \n",
      " 2   Application order                               4424 non-null   int64  \n",
      " 3   Course                                          4424 non-null   int64  \n",
      " 4   Daytime/evening attendance\t                     4424 non-null   int64  \n",
      " 5   Previous qualification                          4424 non-null   int64  \n",
      " 6   Previous qualification (grade)                  4424 non-null   float64\n",
      " 7   Nacionality                                     4424 non-null   int64  \n",
      " 8   Mother's qualification                          4424 non-null   int64  \n",
      " 9   Father's qualification                          4424 non-null   int64  \n",
      " 10  Mother's occupation                             4424 non-null   int64  \n",
      " 11  Father's occupation                             4424 non-null   int64  \n",
      " 12  Admission grade                                 4424 non-null   float64\n",
      " 13  Displaced                                       4424 non-null   int64  \n",
      " 14  Educational special needs                       4424 non-null   int64  \n",
      " 15  Debtor                                          4424 non-null   int64  \n",
      " 16  Tuition fees up to date                         4424 non-null   int64  \n",
      " 17  Gender                                          4424 non-null   int64  \n",
      " 18  Scholarship holder                              4424 non-null   int64  \n",
      " 19  Age at enrollment                               4424 non-null   int64  \n",
      " 20  International                                   4424 non-null   int64  \n",
      " 21  Curricular units 1st sem (credited)             4424 non-null   int64  \n",
      " 22  Curricular units 1st sem (enrolled)             4424 non-null   int64  \n",
      " 23  Curricular units 1st sem (evaluations)          4424 non-null   int64  \n",
      " 24  Curricular units 1st sem (approved)             4424 non-null   int64  \n",
      " 25  Curricular units 1st sem (grade)                4424 non-null   float64\n",
      " 26  Curricular units 1st sem (without evaluations)  4424 non-null   int64  \n",
      " 27  Curricular units 2nd sem (credited)             4424 non-null   int64  \n",
      " 28  Curricular units 2nd sem (enrolled)             4424 non-null   int64  \n",
      " 29  Curricular units 2nd sem (evaluations)          4424 non-null   int64  \n",
      " 30  Curricular units 2nd sem (approved)             4424 non-null   int64  \n",
      " 31  Curricular units 2nd sem (grade)                4424 non-null   float64\n",
      " 32  Curricular units 2nd sem (without evaluations)  4424 non-null   int64  \n",
      " 33  Unemployment rate                               4424 non-null   float64\n",
      " 34  Inflation rate                                  4424 non-null   float64\n",
      " 35  GDP                                             4424 non-null   float64\n",
      " 36  Target                                          4424 non-null   object \n",
      "dtypes: float64(7), int64(29), object(1)\n",
      "memory usage: 1.2+ MB\n"
     ]
    }
   ],
   "source": [
    "#informações dataset\n",
    "estudantes.info()"
   ]
  },
  {
   "cell_type": "code",
   "execution_count": 129,
   "metadata": {},
   "outputs": [
    {
     "data": {
      "text/plain": [
       "(4424, 37)"
      ]
     },
     "execution_count": 129,
     "metadata": {},
     "output_type": "execute_result"
    }
   ],
   "source": [
    "#número de linhas e coluans do dataframe\n",
    "estudantes.shape"
   ]
  },
  {
   "cell_type": "code",
   "execution_count": 130,
   "metadata": {},
   "outputs": [
    {
     "data": {
      "text/plain": [
       "Marital status                                    0\n",
       "Application mode                                  0\n",
       "Application order                                 0\n",
       "Course                                            0\n",
       "Daytime/evening attendance\\t                      0\n",
       "Previous qualification                            0\n",
       "Previous qualification (grade)                    0\n",
       "Nacionality                                       0\n",
       "Mother's qualification                            0\n",
       "Father's qualification                            0\n",
       "Mother's occupation                               0\n",
       "Father's occupation                               0\n",
       "Admission grade                                   0\n",
       "Displaced                                         0\n",
       "Educational special needs                         0\n",
       "Debtor                                            0\n",
       "Tuition fees up to date                           0\n",
       "Gender                                            0\n",
       "Scholarship holder                                0\n",
       "Age at enrollment                                 0\n",
       "International                                     0\n",
       "Curricular units 1st sem (credited)               0\n",
       "Curricular units 1st sem (enrolled)               0\n",
       "Curricular units 1st sem (evaluations)            0\n",
       "Curricular units 1st sem (approved)               0\n",
       "Curricular units 1st sem (grade)                  0\n",
       "Curricular units 1st sem (without evaluations)    0\n",
       "Curricular units 2nd sem (credited)               0\n",
       "Curricular units 2nd sem (enrolled)               0\n",
       "Curricular units 2nd sem (evaluations)            0\n",
       "Curricular units 2nd sem (approved)               0\n",
       "Curricular units 2nd sem (grade)                  0\n",
       "Curricular units 2nd sem (without evaluations)    0\n",
       "Unemployment rate                                 0\n",
       "Inflation rate                                    0\n",
       "GDP                                               0\n",
       "Target                                            0\n",
       "dtype: int64"
      ]
     },
     "execution_count": 130,
     "metadata": {},
     "output_type": "execute_result"
    }
   ],
   "source": [
    "#presença de nulos\n",
    "estudantes.isnull().sum()"
   ]
  },
  {
   "cell_type": "code",
   "execution_count": 131,
   "metadata": {},
   "outputs": [],
   "source": [
    "# fig, ax = plt.subplots(1, sharey=True )\n",
    "# heatmap = sns.heatmap(estudantes.select_dtypes(include=\"float64\"), ax=ax)\n",
    "# fig.set_size_inches(18.5, 10.5)\n"
   ]
  },
  {
   "cell_type": "markdown",
   "metadata": {},
   "source": [
    "#### PREPROCESSAMENTO"
   ]
  },
  {
   "cell_type": "code",
   "execution_count": 132,
   "metadata": {},
   "outputs": [],
   "source": [
    "# for i in range(37):\n",
    "#     estudantes = estudantes.rename({estudantes.columns[i]:i}, axis=1)"
   ]
  },
  {
   "cell_type": "code",
   "execution_count": 133,
   "metadata": {},
   "outputs": [],
   "source": [
    "labele = LabelEncoder()\n",
    "estudantes[\"Target\"] = labele.fit_transform(estudantes[\"Target\"])\n",
    "# for colunas in estudantes.iloc[:,:37].select_dtypes(include=\"object\"):\n",
    "#     estudantes.loc[colunas] = labele.fit_transform(estudantes.loc[colunas])"
   ]
  },
  {
   "cell_type": "code",
   "execution_count": 134,
   "metadata": {},
   "outputs": [
    {
     "data": {
      "text/html": [
       "<div>\n",
       "<style scoped>\n",
       "    .dataframe tbody tr th:only-of-type {\n",
       "        vertical-align: middle;\n",
       "    }\n",
       "\n",
       "    .dataframe tbody tr th {\n",
       "        vertical-align: top;\n",
       "    }\n",
       "\n",
       "    .dataframe thead th {\n",
       "        text-align: right;\n",
       "    }\n",
       "</style>\n",
       "<table border=\"1\" class=\"dataframe\">\n",
       "  <thead>\n",
       "    <tr style=\"text-align: right;\">\n",
       "      <th></th>\n",
       "      <th>Marital status</th>\n",
       "      <th>Application mode</th>\n",
       "      <th>Application order</th>\n",
       "      <th>Course</th>\n",
       "      <th>Daytime/evening attendance\\t</th>\n",
       "      <th>Previous qualification</th>\n",
       "      <th>Previous qualification (grade)</th>\n",
       "      <th>Nacionality</th>\n",
       "      <th>Mother's qualification</th>\n",
       "      <th>Father's qualification</th>\n",
       "      <th>...</th>\n",
       "      <th>Curricular units 2nd sem (credited)</th>\n",
       "      <th>Curricular units 2nd sem (enrolled)</th>\n",
       "      <th>Curricular units 2nd sem (evaluations)</th>\n",
       "      <th>Curricular units 2nd sem (approved)</th>\n",
       "      <th>Curricular units 2nd sem (grade)</th>\n",
       "      <th>Curricular units 2nd sem (without evaluations)</th>\n",
       "      <th>Unemployment rate</th>\n",
       "      <th>Inflation rate</th>\n",
       "      <th>GDP</th>\n",
       "      <th>Target</th>\n",
       "    </tr>\n",
       "  </thead>\n",
       "  <tbody>\n",
       "    <tr>\n",
       "      <th>0</th>\n",
       "      <td>-0.294829</td>\n",
       "      <td>-0.095470</td>\n",
       "      <td>2.490896</td>\n",
       "      <td>-4.209520</td>\n",
       "      <td>0.350082</td>\n",
       "      <td>-0.35023</td>\n",
       "      <td>-0.804841</td>\n",
       "      <td>-0.126298</td>\n",
       "      <td>-0.036018</td>\n",
       "      <td>-0.669778</td>\n",
       "      <td>...</td>\n",
       "      <td>-0.282442</td>\n",
       "      <td>-2.838337</td>\n",
       "      <td>-2.042630</td>\n",
       "      <td>-1.471527</td>\n",
       "      <td>-1.963489</td>\n",
       "      <td>-0.199441</td>\n",
       "      <td>-0.287638</td>\n",
       "      <td>0.124386</td>\n",
       "      <td>0.765761</td>\n",
       "      <td>0</td>\n",
       "    </tr>\n",
       "    <tr>\n",
       "      <th>1</th>\n",
       "      <td>-0.294829</td>\n",
       "      <td>-0.209869</td>\n",
       "      <td>-0.554068</td>\n",
       "      <td>0.192580</td>\n",
       "      <td>0.350082</td>\n",
       "      <td>-0.35023</td>\n",
       "      <td>2.076819</td>\n",
       "      <td>-0.126298</td>\n",
       "      <td>-1.189759</td>\n",
       "      <td>-1.256427</td>\n",
       "      <td>...</td>\n",
       "      <td>-0.282442</td>\n",
       "      <td>-0.105726</td>\n",
       "      <td>-0.522682</td>\n",
       "      <td>0.518904</td>\n",
       "      <td>0.659562</td>\n",
       "      <td>-0.199441</td>\n",
       "      <td>0.876222</td>\n",
       "      <td>-1.105222</td>\n",
       "      <td>0.347199</td>\n",
       "      <td>2</td>\n",
       "    </tr>\n",
       "    <tr>\n",
       "      <th>2</th>\n",
       "      <td>-0.294829</td>\n",
       "      <td>-1.010660</td>\n",
       "      <td>2.490896</td>\n",
       "      <td>0.103404</td>\n",
       "      <td>0.350082</td>\n",
       "      <td>-0.35023</td>\n",
       "      <td>-0.804841</td>\n",
       "      <td>-0.126298</td>\n",
       "      <td>1.117723</td>\n",
       "      <td>0.959802</td>\n",
       "      <td>...</td>\n",
       "      <td>-0.282442</td>\n",
       "      <td>-0.105726</td>\n",
       "      <td>-2.042630</td>\n",
       "      <td>-1.471527</td>\n",
       "      <td>-1.963489</td>\n",
       "      <td>-0.199441</td>\n",
       "      <td>-0.287638</td>\n",
       "      <td>0.124386</td>\n",
       "      <td>0.765761</td>\n",
       "      <td>0</td>\n",
       "    </tr>\n",
       "    <tr>\n",
       "      <th>3</th>\n",
       "      <td>-0.294829</td>\n",
       "      <td>-0.095470</td>\n",
       "      <td>0.207173</td>\n",
       "      <td>0.444115</td>\n",
       "      <td>0.350082</td>\n",
       "      <td>-0.35023</td>\n",
       "      <td>-0.804841</td>\n",
       "      <td>-0.126298</td>\n",
       "      <td>1.181819</td>\n",
       "      <td>0.959802</td>\n",
       "      <td>...</td>\n",
       "      <td>-0.282442</td>\n",
       "      <td>-0.105726</td>\n",
       "      <td>0.490616</td>\n",
       "      <td>0.187165</td>\n",
       "      <td>0.416450</td>\n",
       "      <td>-0.199441</td>\n",
       "      <td>-0.813253</td>\n",
       "      <td>-1.466871</td>\n",
       "      <td>-1.375511</td>\n",
       "      <td>2</td>\n",
       "    </tr>\n",
       "    <tr>\n",
       "      <th>4</th>\n",
       "      <td>1.356212</td>\n",
       "      <td>1.162916</td>\n",
       "      <td>-0.554068</td>\n",
       "      <td>-0.408389</td>\n",
       "      <td>-2.856470</td>\n",
       "      <td>-0.35023</td>\n",
       "      <td>-2.473171</td>\n",
       "      <td>-0.126298</td>\n",
       "      <td>1.117723</td>\n",
       "      <td>1.024985</td>\n",
       "      <td>...</td>\n",
       "      <td>-0.282442</td>\n",
       "      <td>-0.105726</td>\n",
       "      <td>-0.522682</td>\n",
       "      <td>0.518904</td>\n",
       "      <td>0.531608</td>\n",
       "      <td>-0.199441</td>\n",
       "      <td>0.876222</td>\n",
       "      <td>-1.105222</td>\n",
       "      <td>0.347199</td>\n",
       "      <td>2</td>\n",
       "    </tr>\n",
       "  </tbody>\n",
       "</table>\n",
       "<p>5 rows × 37 columns</p>\n",
       "</div>"
      ],
      "text/plain": [
       "   Marital status  Application mode  Application order    Course  \\\n",
       "0       -0.294829         -0.095470           2.490896 -4.209520   \n",
       "1       -0.294829         -0.209869          -0.554068  0.192580   \n",
       "2       -0.294829         -1.010660           2.490896  0.103404   \n",
       "3       -0.294829         -0.095470           0.207173  0.444115   \n",
       "4        1.356212          1.162916          -0.554068 -0.408389   \n",
       "\n",
       "   Daytime/evening attendance\\t  Previous qualification  \\\n",
       "0                      0.350082                -0.35023   \n",
       "1                      0.350082                -0.35023   \n",
       "2                      0.350082                -0.35023   \n",
       "3                      0.350082                -0.35023   \n",
       "4                     -2.856470                -0.35023   \n",
       "\n",
       "   Previous qualification (grade)  Nacionality  Mother's qualification  \\\n",
       "0                       -0.804841    -0.126298               -0.036018   \n",
       "1                        2.076819    -0.126298               -1.189759   \n",
       "2                       -0.804841    -0.126298                1.117723   \n",
       "3                       -0.804841    -0.126298                1.181819   \n",
       "4                       -2.473171    -0.126298                1.117723   \n",
       "\n",
       "   Father's qualification  ...  Curricular units 2nd sem (credited)  \\\n",
       "0               -0.669778  ...                            -0.282442   \n",
       "1               -1.256427  ...                            -0.282442   \n",
       "2                0.959802  ...                            -0.282442   \n",
       "3                0.959802  ...                            -0.282442   \n",
       "4                1.024985  ...                            -0.282442   \n",
       "\n",
       "   Curricular units 2nd sem (enrolled)  \\\n",
       "0                            -2.838337   \n",
       "1                            -0.105726   \n",
       "2                            -0.105726   \n",
       "3                            -0.105726   \n",
       "4                            -0.105726   \n",
       "\n",
       "   Curricular units 2nd sem (evaluations)  \\\n",
       "0                               -2.042630   \n",
       "1                               -0.522682   \n",
       "2                               -2.042630   \n",
       "3                                0.490616   \n",
       "4                               -0.522682   \n",
       "\n",
       "   Curricular units 2nd sem (approved)  Curricular units 2nd sem (grade)  \\\n",
       "0                            -1.471527                         -1.963489   \n",
       "1                             0.518904                          0.659562   \n",
       "2                            -1.471527                         -1.963489   \n",
       "3                             0.187165                          0.416450   \n",
       "4                             0.518904                          0.531608   \n",
       "\n",
       "   Curricular units 2nd sem (without evaluations)  Unemployment rate  \\\n",
       "0                                       -0.199441          -0.287638   \n",
       "1                                       -0.199441           0.876222   \n",
       "2                                       -0.199441          -0.287638   \n",
       "3                                       -0.199441          -0.813253   \n",
       "4                                       -0.199441           0.876222   \n",
       "\n",
       "   Inflation rate       GDP  Target  \n",
       "0        0.124386  0.765761       0  \n",
       "1       -1.105222  0.347199       2  \n",
       "2        0.124386  0.765761       0  \n",
       "3       -1.466871 -1.375511       2  \n",
       "4       -1.105222  0.347199       2  \n",
       "\n",
       "[5 rows x 37 columns]"
      ]
     },
     "execution_count": 134,
     "metadata": {},
     "output_type": "execute_result"
    }
   ],
   "source": [
    "#Redimensioando com a Padronização\n",
    "padronizar = StandardScaler()\n",
    "estudantes.iloc[:,:36] = padronizar.fit_transform(estudantes.iloc[:,:36])\n",
    "estudantes.head()"
   ]
  },
  {
   "cell_type": "code",
   "execution_count": 135,
   "metadata": {},
   "outputs": [
    {
     "data": {
      "text/plain": [
       "array([0, 2, 0, ..., 0, 2, 2])"
      ]
     },
     "execution_count": 135,
     "metadata": {},
     "output_type": "execute_result"
    }
   ],
   "source": [
    "#Separando entre clase e previsores\n",
    "previsores = estudantes.iloc[:, 0:36].values\n",
    "classe =estudantes.iloc[:, 36].values\n",
    "classe"
   ]
  },
  {
   "cell_type": "code",
   "execution_count": 136,
   "metadata": {},
   "outputs": [],
   "source": [
    "X_train, X_test, y_train,y_test = train_test_split(previsores, classe, test_size=0.3, random_state=42)"
   ]
  },
  {
   "cell_type": "markdown",
   "metadata": {},
   "source": [
    "#### REDUÇÃO DE COMPONENTES"
   ]
  },
  {
   "cell_type": "code",
   "execution_count": 137,
   "metadata": {},
   "outputs": [],
   "source": [
    "# from sklearn.decomposition import PCA\n",
    "# redi = PCA(n_components=15)\n",
    "# #dropando coluna target\n",
    "# estudante = estudantes.drop(\"Target\", axis=1)\n",
    "# estudante = pd.DataFrame(redi.fit_transform(estudante))\n",
    "# estudante.head()"
   ]
  },
  {
   "cell_type": "code",
   "execution_count": 138,
   "metadata": {},
   "outputs": [],
   "source": [
    "# plt.plot(redi.explained_variance_ratio_)"
   ]
  },
  {
   "cell_type": "markdown",
   "metadata": {},
   "source": [
    "#### CRIANDO MODELOS"
   ]
  },
  {
   "cell_type": "code",
   "execution_count": 139,
   "metadata": {},
   "outputs": [
    {
     "name": "stdout",
     "output_type": "stream",
     "text": [
      "4\n"
     ]
    }
   ],
   "source": [
    "n_estimators=100\n",
    "learning_rate=0.01\n",
    "subsample=1\n",
    "max_depth=4\n",
    "random_state=42\n",
    "\n",
    "clf = [ GaussianNB(), \n",
    "\n",
    "    DecisionTreeClassifier(random_state=42),  \n",
    "\n",
    "    RandomForestClassifier(\n",
    "    n_estimators=100, \n",
    "    min_samples_leaf=6, random_state=42), \n",
    "\n",
    "    GradientBoostingClassifier(\n",
    "    n_estimators=n_estimators,\n",
    "    learning_rate=learning_rate,\n",
    "    subsample=subsample,\n",
    "    max_depth=max_depth,\n",
    "    random_state=random_state\n",
    ")]\n",
    "print(len(clf))"
   ]
  },
  {
   "cell_type": "code",
   "execution_count": 140,
   "metadata": {},
   "outputs": [],
   "source": [
    "lista_clf=[]\n",
    "for i in range(len(clf)):\n",
    "    modelo = clf[i]\n",
    "    modelo = modelo.fit(X_train, y_train)\n",
    "    lista_clf.append(modelo)\n",
    "    "
   ]
  },
  {
   "cell_type": "code",
   "execution_count": 141,
   "metadata": {},
   "outputs": [],
   "source": [
    "lista_prev =[]\n",
    "for item in lista_clf:\n",
    "    previsao = item.predict(X_test)\n",
    "    lista_prev.append(previsao)\n",
    "    "
   ]
  },
  {
   "cell_type": "code",
   "execution_count": 142,
   "metadata": {},
   "outputs": [
    {
     "name": "stdout",
     "output_type": "stream",
     "text": [
      "Naive Bayes: 0.69\n",
      "Árvore de Decisão: 0.66\n",
      "Floresta de Decisão: 0.76\n",
      "XGBoost: 0.74\n"
     ]
    }
   ],
   "source": [
    "lista_classificadores = [\"Naive Bayes\", \"Árvore de Decisão\",\"Floresta de Decisão\", \"XGBoost\"]\n",
    "contador=0\n",
    "for item in lista_prev:\n",
    "    acuracia = accuracy_score(y_test, item)\n",
    "    mod = lista_classificadores[contador]\n",
    "    print(f\"{mod}: {round(acuracia,2)}\")\n",
    "    contador+=1"
   ]
  },
  {
   "cell_type": "markdown",
   "metadata": {},
   "source": [
    "### CRIANDO FIGURAS DE MATRIZ DE CONFUSÃO"
   ]
  },
  {
   "cell_type": "code",
   "execution_count": 143,
   "metadata": {},
   "outputs": [
    {
     "data": {
      "image/png": "[encoded data removed]",
      "text/plain": [
       "<Figure size 432x288 with 2 Axes>"
      ]
     },
     "metadata": {
      "needs_background": "light"
     },
     "output_type": "display_data"
    },
    {
     "data": {
      "text/plain": [
       "<Figure size 432x288 with 0 Axes>"
      ]
     },
     "metadata": {},
     "output_type": "display_data"
    }
   ],
   "source": [
    "#Opção com Seaborn\n",
    "confusao_matrix = confusion_matrix(y_test, lista_prev[3])\n",
    "matriz= sns.heatmap(confusao_matrix, annot=True, cmap=\"Blues\")\n",
    "plt.xlabel(\"Previsto\")\n",
    "plt.ylabel(\"Real\")\n",
    "plt.figure()\n",
    "\n",
    "plt.show()\n",
    "# plt.savefig(\"confusao.png\")\n"
   ]
  },
  {
   "cell_type": "code",
   "execution_count": 144,
   "metadata": {},
   "outputs": [
    {
     "data": {
      "image/png": "[encoded data removed]",
      "text/plain": [
       "<Figure size 432x288 with 2 Axes>"
      ]
     },
     "metadata": {
      "needs_background": "light"
     },
     "output_type": "display_data"
    }
   ],
   "source": [
    "#Opção 2\n",
    "categorias= [\"Dropout\", \"Enrolled\", \"Graduate\"]\n",
    "confusao = ConfusionMatrixDisplay(confusao_matrix, display_labels=categorias)\n",
    "confusao.plot()\n",
    "#Salvando visualização\n",
    "plt.savefig(\"MatrizConfusao.png\")\n",
    "\n",
    "#opção3 usando plot_confusion_matrix(modelo, teste, previsao)"
   ]
  },
  {
   "cell_type": "markdown",
   "metadata": {},
   "source": [
    "### CRIANDO PROJETO SOLO: BestModel"
   ]
  },
  {
   "cell_type": "code",
   "execution_count": 145,
   "metadata": {},
   "outputs": [
    {
     "name": "stdout",
     "output_type": "stream",
     "text": [
      "Modelo:  e552ed77b89642f993a3cff31a60c567\n"
     ]
    }
   ],
   "source": [
    "mlflow.set_experiment(\"BestModel\")\n",
    "with mlflow.start_run():\n",
    "    #logando métricas\n",
    "    mlflow.log_metric(\"acuracia\", acuracia)\n",
    "\n",
    "    #logando parametros\n",
    "    mlflow.log_param(\"n_estimators\",n_estimators)\n",
    "    mlflow.log_param(\"learning_rate\", learning_rate)\n",
    "    mlflow.log_param(\"subsample\", subsample)\n",
    "    mlflow.log_param(\"max_depth\", max_depth)\n",
    "    mlflow.log_param(\"random_state\", random_state)\n",
    "\n",
    "    #Imagemens\n",
    "    mlflow.log_artifact(\"MatrizConfusao.png\")\n",
    "   \n",
    "\n",
    "    #Modelo\n",
    "    mlflow.sklearn.log_model(lista_clf[3],\"XGBoost\")\n",
    "    print(\"Modelo: \",mlflow.active_run().info.run_uuid)\n",
    "\n",
    "\n",
    "    mlflow.end_run()"
   ]
  },
  {
   "cell_type": "markdown",
   "metadata": {},
   "source": [
    "#### CRIANDO ESTRTURA EM CLASSE PARA BUSCAR NO XGBOOT UM BOM RESULTADO"
   ]
  },
  {
   "cell_type": "code",
   "execution_count": 146,
   "metadata": {},
   "outputs": [],
   "source": [
    "class ModeloMl:\n",
    "    def __init__(self, estimadores, aprendizado, random_state, max_depth):\n",
    "        self._n_estimadores = estimadores\n",
    "        self._learning_rate = aprendizado\n",
    "        self._random_state=random_state\n",
    "        #self._subsample = subsample\n",
    "        self._max_depth = max_depth\n",
    "\n",
    "    def procurar(self):\n",
    "        mlflow.set_experiment(\"ProcuraBest\")\n",
    "        with mlflow.start_run():\n",
    "\n",
    "            #cirando modelo\n",
    "            modelo = GradientBoostingClassifier(n_estimators=self._n_estimadores,\n",
    "            learning_rate=self._learning_rate,\n",
    "            max_depth=self._max_depth,\n",
    "            #subsample=self._subsample,\n",
    "            random_state=self._random_state)\n",
    "\n",
    "            modelo = modelo.fit(X_train, y_train)\n",
    "\n",
    "            #criando artefatos gráficos\n",
    "            previsao = modelo.predict(X_test)\n",
    "            mc = confusion_matrix(y_test, previsao)\n",
    "            labels_name = [\"Dropout\", \"Enrolled\", \"Graduated\"]\n",
    "            matgraph = ConfusionMatrixDisplay(mc, display_labels=labels_name)\n",
    "            matgraph.plot()\n",
    "            plt.savefig(\"matgraph.png\")\n",
    "\n",
    "            #salvando parametros\n",
    "            mlflow.log_param(\"n_estimators\", self._n_estimadores)\n",
    "            mlflow.log_param(\"learning_rate\", self._learning_rate)\n",
    "            mlflow.log_param(\"random_state\", self._random_state)\n",
    "            #mlflow.log_param(\"subsample\", self._subsample)\n",
    "            mlflow.log_param(\"maxdepth\", self._max_depth)\n",
    "\n",
    "            #fazendo metricas\n",
    "            acuracia = accuracy_score(y_test, previsao)\n",
    "            #precisoa acuracia e f1 não aceitam binary então precisa mudar para micro, macro,weighted ou sample\n",
    "            precisao = precision_score(y_test, previsao, average=\"macro\")\n",
    "            recall = recall_score(y_test, previsao, average=\"macro\")\n",
    "            f1score = f1_score(y_test, previsao, average=\"macro\")\n",
    "            #salvando métricas\n",
    "            mlflow.log_metric(\"acuracia\",acuracia)\n",
    "            mlflow.log_metric(\"precisao\",precisao)\n",
    "            mlflow.log_metric(\"recall\",recall)\n",
    "            mlflow.log_metric(\"f1_score\",f1score)\n",
    "\n",
    "            #salvando gráficos\n",
    "            mlflow.log_artifact(\"matgraph.png\")\n",
    "            \n",
    "            mlflow.sklearn.log_model(modelo, \"XGBoost\")\n",
    "            print(\"Modelo\", mlflow.active_run().info.run_uuid)\n",
    "        mlflow.end_run()\n",
    "    \n"
   ]
  },
  {
   "cell_type": "markdown",
   "metadata": {},
   "source": [
    "#### ANALISANDO FEATURES IMPORTANTES"
   ]
  },
  {
   "cell_type": "code",
   "execution_count": 147,
   "metadata": {},
   "outputs": [
    {
     "data": {
      "text/plain": [
       "array([0.0086388 , 0.05155507, 0.02067304, 0.02286793, 0.00293092,\n",
       "       0.01216582, 0.02906004, 0.00316626, 0.03110665, 0.01898958,\n",
       "       0.02001405, 0.03644645, 0.03100282, 0.01596015, 0.00189746,\n",
       "       0.0172382 , 0.03742194, 0.02016295, 0.03341116, 0.02604581,\n",
       "       0.00501361, 0.00635786, 0.01727229, 0.03937995, 0.08760618,\n",
       "       0.03407792, 0.00777694, 0.00487685, 0.04036275, 0.08624612,\n",
       "       0.07219784, 0.07731645, 0.00914229, 0.02963761, 0.0164903 ,\n",
       "       0.02548994])"
      ]
     },
     "execution_count": 147,
     "metadata": {},
     "output_type": "execute_result"
    }
   ],
   "source": [
    "modelo_extra = ExtraTreeClassifier()\n",
    "modelo_extra = modelo_extra.fit(X_train, y_train)\n",
    "\n",
    "prevendo_extras = modelo_extra.predict(X_test)\n",
    "modelo_extra.feature_importances_\n"
   ]
  },
  {
   "cell_type": "code",
   "execution_count": 148,
   "metadata": {},
   "outputs": [],
   "source": [
    "# previsores = estudantes.iloc[:, [0,1,2,3,6,8,9,10,11,12,13,15,16,17,18,19,22,23,24,25,27,28,29,30,31,32,33,34,35]].values\n",
    "# classe = estudantes.iloc[:, 36].values"
   ]
  },
  {
   "cell_type": "code",
   "execution_count": 149,
   "metadata": {},
   "outputs": [],
   "source": [
    "# X_train, X_test, y_train, y_test =train_test_split(previsores, classe, test_size=0.3, random_state=42)"
   ]
  },
  {
   "cell_type": "markdown",
   "metadata": {},
   "source": [
    "#### VARREDURA DE MELHORES MODELOS COM LAÇO: PROJETO ProcuraBest"
   ]
  },
  {
   "cell_type": "code",
   "execution_count": 150,
   "metadata": {},
   "outputs": [
    {
     "name": "stdout",
     "output_type": "stream",
     "text": [
      "Modelo 55b70ac3afb446509f20afb220782fc1\n",
      "Modelo 4dbd6e767ceb44fa9771506fe75adb8a\n",
      "Modelo 40be55b38cba43cb9ba17bd202f45529\n",
      "Modelo 8cf161299e9e4e0491707448c6e48a49\n",
      "Modelo 4219aff7a7924e3c985d1e7c69d714e0\n",
      "Modelo 40e4887f1e3c40a887e67fc4b2075c24\n",
      "Modelo 85f49d64241347a89c7154a57ca1c453\n",
      "Modelo e12a570cbd2148cab983364a66190b96\n",
      "Modelo ed9412787e4b473398e1e9787720ce42\n",
      "Modelo f4421803bfb94fca9767c2fbdf6899d8\n"
     ]
    },
    {
     "data": {
      "image/png": "[encoded data removed]",
      "text/plain": [
       "<Figure size 432x288 with 2 Axes>"
      ]
     },
     "metadata": {
      "needs_background": "light"
     },
     "output_type": "display_data"
    },
    {
     "data": {
      "image/png": "[encoded data removed]",
      "text/plain": [
       "<Figure size 432x288 with 2 Axes>"
      ]
     },
     "metadata": {
      "needs_background": "light"
     },
     "output_type": "display_data"
    },
    {
     "data": {
      "image/png": "[encoded data removed]",
      "text/plain": [
       "<Figure size 432x288 with 2 Axes>"
      ]
     },
     "metadata": {
      "needs_background": "light"
     },
     "output_type": "display_data"
    },
    {
     "data": {
      "image/png": "[encoded data removed]",
      "text/plain": [
       "<Figure size 432x288 with 2 Axes>"
      ]
     },
     "metadata": {
      "needs_background": "light"
     },
     "output_type": "display_data"
    },
    {
     "data": {
      "image/png": "[encoded data removed]",
      "text/plain": [
       "<Figure size 432x288 with 2 Axes>"
      ]
     },
     "metadata": {
      "needs_background": "light"
     },
     "output_type": "display_data"
    },
    {
     "data": {
      "image/png": "[encoded data removed]",
      "text/plain": [
       "<Figure size 432x288 with 2 Axes>"
      ]
     },
     "metadata": {
      "needs_background": "light"
     },
     "output_type": "display_data"
    },
    {
     "data": {
      "image/png": "[encoded data removed]",
      "text/plain": [
       "<Figure size 432x288 with 2 Axes>"
      ]
     },
     "metadata": {
      "needs_background": "light"
     },
     "output_type": "display_data"
    },
    {
     "data": {
      "image/png": "[encoded data removed]",
      "text/plain": [
       "<Figure size 432x288 with 2 Axes>"
      ]
     },
     "metadata": {
      "needs_background": "light"
     },
     "output_type": "display_data"
    },
    {
     "data": {
      "image/png": "[encoded data removed]",
      "text/plain": [
       "<Figure size 432x288 with 2 Axes>"
      ]
     },
     "metadata": {
      "needs_background": "light"
     },
     "output_type": "display_data"
    },
    {
     "data": {
      "image/png": "[encoded data removed]",
      "text/plain": [
       "<Figure size 432x288 with 2 Axes>"
      ]
     },
     "metadata": {
      "needs_background": "light"
     },
     "output_type": "display_data"
    }
   ],
   "source": [
    "contador =100\n",
    "apr = 0.01\n",
    "prf= 10\n",
    "for elemento in range(10):\n",
    "    mp = ModeloMl(100,apr,42,prf)\n",
    "    mp.procurar()\n",
    "    apr+=0.01\n",
    "    prf-=1"
   ]
  },
  {
   "cell_type": "markdown",
   "metadata": {},
   "source": [
    "#### MELHOR MODELO ATÉ O MOMENTO"
   ]
  },
  {
   "cell_type": "code",
   "execution_count": 152,
   "metadata": {},
   "outputs": [],
   "source": [
    "# mp = ModeloMl(100,0.1,42,5)\n",
    "# mp.procurar()"
   ]
  },
  {
   "cell_type": "markdown",
   "metadata": {},
   "source": [
    "##### use mlflow  ui --port 5000"
   ]
  },
  {
   "cell_type": "markdown",
   "metadata": {},
   "source": [
    "DOCUMENTAÇÂO PRECISION: https://scikit-learn.org/stable/modules/generated/sklearn.metrics.precision_score.html"
   ]
  }
 ],
 "metadata": {
  "interpreter": {
   "hash": "40b4206a6c90dbff8d777940802b88bf8b103f5a837169c9f4794b1aa4414424"
  },
  "kernelspec": {
   "display_name": "Python 3.10.1 ('classificador': venv)",
   "language": "python",
   "name": "python3"
  },
  "language_info": {
   "codemirror_mode": {
    "name": "ipython",
    "version": 3
   },
   "file_extension": ".py",
   "mimetype": "text/x-python",
   "name": "python",
   "nbconvert_exporter": "python",
   "pygments_lexer": "ipython3",
   "version": "3.10.1"
  },
  "orig_nbformat": 4
 },
 "nbformat": 4,
 "nbformat_minor": 2
}
