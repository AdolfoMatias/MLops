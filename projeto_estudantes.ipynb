{
 "cells": [
  {
   "cell_type": "markdown",
   "metadata": {},
   "source": [
    "### SUCESSO DE ESTUDANTES"
   ]
  },
  {
   "cell_type": "code",
   "execution_count": 1,
   "metadata": {},
   "outputs": [],
   "source": [
    "import pandas as pd\n",
    "import numpy as np\n",
    "import mlflow\n",
    "import matplotlib.pyplot as plt\n",
    "import seaborn as sns\n",
    "from sklearn.preprocessing import LabelEncoder, LabelBinarizer, OneHotEncoder, StandardScaler\n",
    "from sklearn.metrics import *\n",
    "from sklearn.model_selection import cross_val_score, KFold, GridSearchCV, train_test_split\n",
    "from sklearn.naive_bayes import GaussianNB\n",
    "from sklearn.tree import DecisionTreeClassifier, ExtraTreeClassifier\n",
    "from sklearn.ensemble import GradientBoostingClassifier, RandomForestClassifier\n",
    "\n",
    "%matplotlib inline"
   ]
  },
  {
   "cell_type": "markdown",
   "metadata": {},
   "source": [
    "### IMPOTANDO BASE DE DADOS"
   ]
  },
  {
   "cell_type": "code",
   "execution_count": 2,
   "metadata": {},
   "outputs": [
    {
     "data": {
      "text/html": [
       "<div>\n",
       "<style scoped>\n",
       "    .dataframe tbody tr th:only-of-type {\n",
       "        vertical-align: middle;\n",
       "    }\n",
       "\n",
       "    .dataframe tbody tr th {\n",
       "        vertical-align: top;\n",
       "    }\n",
       "\n",
       "    .dataframe thead th {\n",
       "        text-align: right;\n",
       "    }\n",
       "</style>\n",
       "<table border=\"1\" class=\"dataframe\">\n",
       "  <thead>\n",
       "    <tr style=\"text-align: right;\">\n",
       "      <th></th>\n",
       "      <th>Marital status</th>\n",
       "      <th>Application mode</th>\n",
       "      <th>Application order</th>\n",
       "      <th>Course</th>\n",
       "      <th>Daytime/evening attendance\\t</th>\n",
       "      <th>Previous qualification</th>\n",
       "      <th>Previous qualification (grade)</th>\n",
       "      <th>Nacionality</th>\n",
       "      <th>Mother's qualification</th>\n",
       "      <th>Father's qualification</th>\n",
       "      <th>...</th>\n",
       "      <th>Curricular units 2nd sem (credited)</th>\n",
       "      <th>Curricular units 2nd sem (enrolled)</th>\n",
       "      <th>Curricular units 2nd sem (evaluations)</th>\n",
       "      <th>Curricular units 2nd sem (approved)</th>\n",
       "      <th>Curricular units 2nd sem (grade)</th>\n",
       "      <th>Curricular units 2nd sem (without evaluations)</th>\n",
       "      <th>Unemployment rate</th>\n",
       "      <th>Inflation rate</th>\n",
       "      <th>GDP</th>\n",
       "      <th>Target</th>\n",
       "    </tr>\n",
       "  </thead>\n",
       "  <tbody>\n",
       "    <tr>\n",
       "      <th>0</th>\n",
       "      <td>1</td>\n",
       "      <td>17</td>\n",
       "      <td>5</td>\n",
       "      <td>171</td>\n",
       "      <td>1</td>\n",
       "      <td>1</td>\n",
       "      <td>122.0</td>\n",
       "      <td>1</td>\n",
       "      <td>19</td>\n",
       "      <td>12</td>\n",
       "      <td>...</td>\n",
       "      <td>0</td>\n",
       "      <td>0</td>\n",
       "      <td>0</td>\n",
       "      <td>0</td>\n",
       "      <td>0.000000</td>\n",
       "      <td>0</td>\n",
       "      <td>10.8</td>\n",
       "      <td>1.4</td>\n",
       "      <td>1.74</td>\n",
       "      <td>Dropout</td>\n",
       "    </tr>\n",
       "    <tr>\n",
       "      <th>1</th>\n",
       "      <td>1</td>\n",
       "      <td>15</td>\n",
       "      <td>1</td>\n",
       "      <td>9254</td>\n",
       "      <td>1</td>\n",
       "      <td>1</td>\n",
       "      <td>160.0</td>\n",
       "      <td>1</td>\n",
       "      <td>1</td>\n",
       "      <td>3</td>\n",
       "      <td>...</td>\n",
       "      <td>0</td>\n",
       "      <td>6</td>\n",
       "      <td>6</td>\n",
       "      <td>6</td>\n",
       "      <td>13.666667</td>\n",
       "      <td>0</td>\n",
       "      <td>13.9</td>\n",
       "      <td>-0.3</td>\n",
       "      <td>0.79</td>\n",
       "      <td>Graduate</td>\n",
       "    </tr>\n",
       "    <tr>\n",
       "      <th>2</th>\n",
       "      <td>1</td>\n",
       "      <td>1</td>\n",
       "      <td>5</td>\n",
       "      <td>9070</td>\n",
       "      <td>1</td>\n",
       "      <td>1</td>\n",
       "      <td>122.0</td>\n",
       "      <td>1</td>\n",
       "      <td>37</td>\n",
       "      <td>37</td>\n",
       "      <td>...</td>\n",
       "      <td>0</td>\n",
       "      <td>6</td>\n",
       "      <td>0</td>\n",
       "      <td>0</td>\n",
       "      <td>0.000000</td>\n",
       "      <td>0</td>\n",
       "      <td>10.8</td>\n",
       "      <td>1.4</td>\n",
       "      <td>1.74</td>\n",
       "      <td>Dropout</td>\n",
       "    </tr>\n",
       "    <tr>\n",
       "      <th>3</th>\n",
       "      <td>1</td>\n",
       "      <td>17</td>\n",
       "      <td>2</td>\n",
       "      <td>9773</td>\n",
       "      <td>1</td>\n",
       "      <td>1</td>\n",
       "      <td>122.0</td>\n",
       "      <td>1</td>\n",
       "      <td>38</td>\n",
       "      <td>37</td>\n",
       "      <td>...</td>\n",
       "      <td>0</td>\n",
       "      <td>6</td>\n",
       "      <td>10</td>\n",
       "      <td>5</td>\n",
       "      <td>12.400000</td>\n",
       "      <td>0</td>\n",
       "      <td>9.4</td>\n",
       "      <td>-0.8</td>\n",
       "      <td>-3.12</td>\n",
       "      <td>Graduate</td>\n",
       "    </tr>\n",
       "    <tr>\n",
       "      <th>4</th>\n",
       "      <td>2</td>\n",
       "      <td>39</td>\n",
       "      <td>1</td>\n",
       "      <td>8014</td>\n",
       "      <td>0</td>\n",
       "      <td>1</td>\n",
       "      <td>100.0</td>\n",
       "      <td>1</td>\n",
       "      <td>37</td>\n",
       "      <td>38</td>\n",
       "      <td>...</td>\n",
       "      <td>0</td>\n",
       "      <td>6</td>\n",
       "      <td>6</td>\n",
       "      <td>6</td>\n",
       "      <td>13.000000</td>\n",
       "      <td>0</td>\n",
       "      <td>13.9</td>\n",
       "      <td>-0.3</td>\n",
       "      <td>0.79</td>\n",
       "      <td>Graduate</td>\n",
       "    </tr>\n",
       "  </tbody>\n",
       "</table>\n",
       "<p>5 rows × 37 columns</p>\n",
       "</div>"
      ],
      "text/plain": [
       "   Marital status  Application mode  Application order  Course  \\\n",
       "0               1                17                  5     171   \n",
       "1               1                15                  1    9254   \n",
       "2               1                 1                  5    9070   \n",
       "3               1                17                  2    9773   \n",
       "4               2                39                  1    8014   \n",
       "\n",
       "   Daytime/evening attendance\\t  Previous qualification  \\\n",
       "0                             1                       1   \n",
       "1                             1                       1   \n",
       "2                             1                       1   \n",
       "3                             1                       1   \n",
       "4                             0                       1   \n",
       "\n",
       "   Previous qualification (grade)  Nacionality  Mother's qualification  \\\n",
       "0                           122.0            1                      19   \n",
       "1                           160.0            1                       1   \n",
       "2                           122.0            1                      37   \n",
       "3                           122.0            1                      38   \n",
       "4                           100.0            1                      37   \n",
       "\n",
       "   Father's qualification  ...  Curricular units 2nd sem (credited)  \\\n",
       "0                      12  ...                                    0   \n",
       "1                       3  ...                                    0   \n",
       "2                      37  ...                                    0   \n",
       "3                      37  ...                                    0   \n",
       "4                      38  ...                                    0   \n",
       "\n",
       "   Curricular units 2nd sem (enrolled)  \\\n",
       "0                                    0   \n",
       "1                                    6   \n",
       "2                                    6   \n",
       "3                                    6   \n",
       "4                                    6   \n",
       "\n",
       "   Curricular units 2nd sem (evaluations)  \\\n",
       "0                                       0   \n",
       "1                                       6   \n",
       "2                                       0   \n",
       "3                                      10   \n",
       "4                                       6   \n",
       "\n",
       "   Curricular units 2nd sem (approved)  Curricular units 2nd sem (grade)  \\\n",
       "0                                    0                          0.000000   \n",
       "1                                    6                         13.666667   \n",
       "2                                    0                          0.000000   \n",
       "3                                    5                         12.400000   \n",
       "4                                    6                         13.000000   \n",
       "\n",
       "   Curricular units 2nd sem (without evaluations)  Unemployment rate  \\\n",
       "0                                               0               10.8   \n",
       "1                                               0               13.9   \n",
       "2                                               0               10.8   \n",
       "3                                               0                9.4   \n",
       "4                                               0               13.9   \n",
       "\n",
       "   Inflation rate   GDP    Target  \n",
       "0             1.4  1.74   Dropout  \n",
       "1            -0.3  0.79  Graduate  \n",
       "2             1.4  1.74   Dropout  \n",
       "3            -0.8 -3.12  Graduate  \n",
       "4            -0.3  0.79  Graduate  \n",
       "\n",
       "[5 rows x 37 columns]"
      ]
     },
     "execution_count": 2,
     "metadata": {},
     "output_type": "execute_result"
    }
   ],
   "source": [
    "estudantes = pd.read_csv(\"estudantes.csv\", sep=\";\")\n",
    "estudantes.head()"
   ]
  },
  {
   "cell_type": "markdown",
   "metadata": {},
   "source": [
    "### EXPLORANDO DADOS"
   ]
  },
  {
   "cell_type": "code",
   "execution_count": 3,
   "metadata": {},
   "outputs": [
    {
     "name": "stdout",
     "output_type": "stream",
     "text": [
      "<class 'pandas.core.frame.DataFrame'>\n",
      "RangeIndex: 4424 entries, 0 to 4423\n",
      "Data columns (total 37 columns):\n",
      " #   Column                                          Non-Null Count  Dtype  \n",
      "---  ------                                          --------------  -----  \n",
      " 0   Marital status                                  4424 non-null   int64  \n",
      " 1   Application mode                                4424 non-null   int64  \n",
      " 2   Application order                               4424 non-null   int64  \n",
      " 3   Course                                          4424 non-null   int64  \n",
      " 4   Daytime/evening attendance\t                     4424 non-null   int64  \n",
      " 5   Previous qualification                          4424 non-null   int64  \n",
      " 6   Previous qualification (grade)                  4424 non-null   float64\n",
      " 7   Nacionality                                     4424 non-null   int64  \n",
      " 8   Mother's qualification                          4424 non-null   int64  \n",
      " 9   Father's qualification                          4424 non-null   int64  \n",
      " 10  Mother's occupation                             4424 non-null   int64  \n",
      " 11  Father's occupation                             4424 non-null   int64  \n",
      " 12  Admission grade                                 4424 non-null   float64\n",
      " 13  Displaced                                       4424 non-null   int64  \n",
      " 14  Educational special needs                       4424 non-null   int64  \n",
      " 15  Debtor                                          4424 non-null   int64  \n",
      " 16  Tuition fees up to date                         4424 non-null   int64  \n",
      " 17  Gender                                          4424 non-null   int64  \n",
      " 18  Scholarship holder                              4424 non-null   int64  \n",
      " 19  Age at enrollment                               4424 non-null   int64  \n",
      " 20  International                                   4424 non-null   int64  \n",
      " 21  Curricular units 1st sem (credited)             4424 non-null   int64  \n",
      " 22  Curricular units 1st sem (enrolled)             4424 non-null   int64  \n",
      " 23  Curricular units 1st sem (evaluations)          4424 non-null   int64  \n",
      " 24  Curricular units 1st sem (approved)             4424 non-null   int64  \n",
      " 25  Curricular units 1st sem (grade)                4424 non-null   float64\n",
      " 26  Curricular units 1st sem (without evaluations)  4424 non-null   int64  \n",
      " 27  Curricular units 2nd sem (credited)             4424 non-null   int64  \n",
      " 28  Curricular units 2nd sem (enrolled)             4424 non-null   int64  \n",
      " 29  Curricular units 2nd sem (evaluations)          4424 non-null   int64  \n",
      " 30  Curricular units 2nd sem (approved)             4424 non-null   int64  \n",
      " 31  Curricular units 2nd sem (grade)                4424 non-null   float64\n",
      " 32  Curricular units 2nd sem (without evaluations)  4424 non-null   int64  \n",
      " 33  Unemployment rate                               4424 non-null   float64\n",
      " 34  Inflation rate                                  4424 non-null   float64\n",
      " 35  GDP                                             4424 non-null   float64\n",
      " 36  Target                                          4424 non-null   object \n",
      "dtypes: float64(7), int64(29), object(1)\n",
      "memory usage: 1.2+ MB\n"
     ]
    }
   ],
   "source": [
    "#informações dataset\n",
    "estudantes.info()"
   ]
  },
  {
   "cell_type": "code",
   "execution_count": 4,
   "metadata": {},
   "outputs": [
    {
     "data": {
      "text/plain": [
       "(4424, 37)"
      ]
     },
     "execution_count": 4,
     "metadata": {},
     "output_type": "execute_result"
    }
   ],
   "source": [
    "#número de linhas e coluans do dataframe\n",
    "estudantes.shape"
   ]
  },
  {
   "cell_type": "code",
   "execution_count": 5,
   "metadata": {},
   "outputs": [
    {
     "data": {
      "text/plain": [
       "Marital status                                    0\n",
       "Application mode                                  0\n",
       "Application order                                 0\n",
       "Course                                            0\n",
       "Daytime/evening attendance\\t                      0\n",
       "Previous qualification                            0\n",
       "Previous qualification (grade)                    0\n",
       "Nacionality                                       0\n",
       "Mother's qualification                            0\n",
       "Father's qualification                            0\n",
       "Mother's occupation                               0\n",
       "Father's occupation                               0\n",
       "Admission grade                                   0\n",
       "Displaced                                         0\n",
       "Educational special needs                         0\n",
       "Debtor                                            0\n",
       "Tuition fees up to date                           0\n",
       "Gender                                            0\n",
       "Scholarship holder                                0\n",
       "Age at enrollment                                 0\n",
       "International                                     0\n",
       "Curricular units 1st sem (credited)               0\n",
       "Curricular units 1st sem (enrolled)               0\n",
       "Curricular units 1st sem (evaluations)            0\n",
       "Curricular units 1st sem (approved)               0\n",
       "Curricular units 1st sem (grade)                  0\n",
       "Curricular units 1st sem (without evaluations)    0\n",
       "Curricular units 2nd sem (credited)               0\n",
       "Curricular units 2nd sem (enrolled)               0\n",
       "Curricular units 2nd sem (evaluations)            0\n",
       "Curricular units 2nd sem (approved)               0\n",
       "Curricular units 2nd sem (grade)                  0\n",
       "Curricular units 2nd sem (without evaluations)    0\n",
       "Unemployment rate                                 0\n",
       "Inflation rate                                    0\n",
       "GDP                                               0\n",
       "Target                                            0\n",
       "dtype: int64"
      ]
     },
     "execution_count": 5,
     "metadata": {},
     "output_type": "execute_result"
    }
   ],
   "source": [
    "#presença de nulos\n",
    "estudantes.isnull().sum()"
   ]
  },
  {
   "cell_type": "code",
   "execution_count": 6,
   "metadata": {},
   "outputs": [],
   "source": [
    "# fig, ax = plt.subplots(1, sharey=True )\n",
    "# heatmap = sns.heatmap(estudantes.select_dtypes(include=\"float64\"), ax=ax)\n",
    "# fig.set_size_inches(18.5, 10.5)\n"
   ]
  },
  {
   "cell_type": "markdown",
   "metadata": {},
   "source": [
    "#### PREPROCESSAMENTO"
   ]
  },
  {
   "cell_type": "code",
   "execution_count": 7,
   "metadata": {},
   "outputs": [],
   "source": [
    "# for i in range(37):\n",
    "#     estudantes = estudantes.rename({estudantes.columns[i]:i}, axis=1)\n",
    "\n",
    "\n",
    "    "
   ]
  },
  {
   "cell_type": "code",
   "execution_count": 8,
   "metadata": {},
   "outputs": [],
   "source": [
    "labele = LabelEncoder()\n",
    "estudantes[\"Target\"] = labele.fit_transform(estudantes[\"Target\"])\n",
    "# for colunas in estudantes.iloc[:,:37].select_dtypes(include=\"object\"):\n",
    "#     estudantes.loc[colunas] = labele.fit_transform(estudantes.loc[colunas])"
   ]
  },
  {
   "cell_type": "code",
   "execution_count": 9,
   "metadata": {},
   "outputs": [
    {
     "data": {
      "text/html": [
       "<div>\n",
       "<style scoped>\n",
       "    .dataframe tbody tr th:only-of-type {\n",
       "        vertical-align: middle;\n",
       "    }\n",
       "\n",
       "    .dataframe tbody tr th {\n",
       "        vertical-align: top;\n",
       "    }\n",
       "\n",
       "    .dataframe thead th {\n",
       "        text-align: right;\n",
       "    }\n",
       "</style>\n",
       "<table border=\"1\" class=\"dataframe\">\n",
       "  <thead>\n",
       "    <tr style=\"text-align: right;\">\n",
       "      <th></th>\n",
       "      <th>Marital status</th>\n",
       "      <th>Application mode</th>\n",
       "      <th>Application order</th>\n",
       "      <th>Course</th>\n",
       "      <th>Daytime/evening attendance\\t</th>\n",
       "      <th>Previous qualification</th>\n",
       "      <th>Previous qualification (grade)</th>\n",
       "      <th>Nacionality</th>\n",
       "      <th>Mother's qualification</th>\n",
       "      <th>Father's qualification</th>\n",
       "      <th>...</th>\n",
       "      <th>Curricular units 2nd sem (credited)</th>\n",
       "      <th>Curricular units 2nd sem (enrolled)</th>\n",
       "      <th>Curricular units 2nd sem (evaluations)</th>\n",
       "      <th>Curricular units 2nd sem (approved)</th>\n",
       "      <th>Curricular units 2nd sem (grade)</th>\n",
       "      <th>Curricular units 2nd sem (without evaluations)</th>\n",
       "      <th>Unemployment rate</th>\n",
       "      <th>Inflation rate</th>\n",
       "      <th>GDP</th>\n",
       "      <th>Target</th>\n",
       "    </tr>\n",
       "  </thead>\n",
       "  <tbody>\n",
       "    <tr>\n",
       "      <th>0</th>\n",
       "      <td>-0.294829</td>\n",
       "      <td>-0.095470</td>\n",
       "      <td>2.490896</td>\n",
       "      <td>-4.209520</td>\n",
       "      <td>0.350082</td>\n",
       "      <td>-0.35023</td>\n",
       "      <td>-0.804841</td>\n",
       "      <td>-0.126298</td>\n",
       "      <td>-0.036018</td>\n",
       "      <td>-0.669778</td>\n",
       "      <td>...</td>\n",
       "      <td>-0.282442</td>\n",
       "      <td>-2.838337</td>\n",
       "      <td>-2.042630</td>\n",
       "      <td>-1.471527</td>\n",
       "      <td>-1.963489</td>\n",
       "      <td>-0.199441</td>\n",
       "      <td>-0.287638</td>\n",
       "      <td>0.124386</td>\n",
       "      <td>0.765761</td>\n",
       "      <td>0</td>\n",
       "    </tr>\n",
       "    <tr>\n",
       "      <th>1</th>\n",
       "      <td>-0.294829</td>\n",
       "      <td>-0.209869</td>\n",
       "      <td>-0.554068</td>\n",
       "      <td>0.192580</td>\n",
       "      <td>0.350082</td>\n",
       "      <td>-0.35023</td>\n",
       "      <td>2.076819</td>\n",
       "      <td>-0.126298</td>\n",
       "      <td>-1.189759</td>\n",
       "      <td>-1.256427</td>\n",
       "      <td>...</td>\n",
       "      <td>-0.282442</td>\n",
       "      <td>-0.105726</td>\n",
       "      <td>-0.522682</td>\n",
       "      <td>0.518904</td>\n",
       "      <td>0.659562</td>\n",
       "      <td>-0.199441</td>\n",
       "      <td>0.876222</td>\n",
       "      <td>-1.105222</td>\n",
       "      <td>0.347199</td>\n",
       "      <td>2</td>\n",
       "    </tr>\n",
       "    <tr>\n",
       "      <th>2</th>\n",
       "      <td>-0.294829</td>\n",
       "      <td>-1.010660</td>\n",
       "      <td>2.490896</td>\n",
       "      <td>0.103404</td>\n",
       "      <td>0.350082</td>\n",
       "      <td>-0.35023</td>\n",
       "      <td>-0.804841</td>\n",
       "      <td>-0.126298</td>\n",
       "      <td>1.117723</td>\n",
       "      <td>0.959802</td>\n",
       "      <td>...</td>\n",
       "      <td>-0.282442</td>\n",
       "      <td>-0.105726</td>\n",
       "      <td>-2.042630</td>\n",
       "      <td>-1.471527</td>\n",
       "      <td>-1.963489</td>\n",
       "      <td>-0.199441</td>\n",
       "      <td>-0.287638</td>\n",
       "      <td>0.124386</td>\n",
       "      <td>0.765761</td>\n",
       "      <td>0</td>\n",
       "    </tr>\n",
       "    <tr>\n",
       "      <th>3</th>\n",
       "      <td>-0.294829</td>\n",
       "      <td>-0.095470</td>\n",
       "      <td>0.207173</td>\n",
       "      <td>0.444115</td>\n",
       "      <td>0.350082</td>\n",
       "      <td>-0.35023</td>\n",
       "      <td>-0.804841</td>\n",
       "      <td>-0.126298</td>\n",
       "      <td>1.181819</td>\n",
       "      <td>0.959802</td>\n",
       "      <td>...</td>\n",
       "      <td>-0.282442</td>\n",
       "      <td>-0.105726</td>\n",
       "      <td>0.490616</td>\n",
       "      <td>0.187165</td>\n",
       "      <td>0.416450</td>\n",
       "      <td>-0.199441</td>\n",
       "      <td>-0.813253</td>\n",
       "      <td>-1.466871</td>\n",
       "      <td>-1.375511</td>\n",
       "      <td>2</td>\n",
       "    </tr>\n",
       "    <tr>\n",
       "      <th>4</th>\n",
       "      <td>1.356212</td>\n",
       "      <td>1.162916</td>\n",
       "      <td>-0.554068</td>\n",
       "      <td>-0.408389</td>\n",
       "      <td>-2.856470</td>\n",
       "      <td>-0.35023</td>\n",
       "      <td>-2.473171</td>\n",
       "      <td>-0.126298</td>\n",
       "      <td>1.117723</td>\n",
       "      <td>1.024985</td>\n",
       "      <td>...</td>\n",
       "      <td>-0.282442</td>\n",
       "      <td>-0.105726</td>\n",
       "      <td>-0.522682</td>\n",
       "      <td>0.518904</td>\n",
       "      <td>0.531608</td>\n",
       "      <td>-0.199441</td>\n",
       "      <td>0.876222</td>\n",
       "      <td>-1.105222</td>\n",
       "      <td>0.347199</td>\n",
       "      <td>2</td>\n",
       "    </tr>\n",
       "  </tbody>\n",
       "</table>\n",
       "<p>5 rows × 37 columns</p>\n",
       "</div>"
      ],
      "text/plain": [
       "   Marital status  Application mode  Application order    Course  \\\n",
       "0       -0.294829         -0.095470           2.490896 -4.209520   \n",
       "1       -0.294829         -0.209869          -0.554068  0.192580   \n",
       "2       -0.294829         -1.010660           2.490896  0.103404   \n",
       "3       -0.294829         -0.095470           0.207173  0.444115   \n",
       "4        1.356212          1.162916          -0.554068 -0.408389   \n",
       "\n",
       "   Daytime/evening attendance\\t  Previous qualification  \\\n",
       "0                      0.350082                -0.35023   \n",
       "1                      0.350082                -0.35023   \n",
       "2                      0.350082                -0.35023   \n",
       "3                      0.350082                -0.35023   \n",
       "4                     -2.856470                -0.35023   \n",
       "\n",
       "   Previous qualification (grade)  Nacionality  Mother's qualification  \\\n",
       "0                       -0.804841    -0.126298               -0.036018   \n",
       "1                        2.076819    -0.126298               -1.189759   \n",
       "2                       -0.804841    -0.126298                1.117723   \n",
       "3                       -0.804841    -0.126298                1.181819   \n",
       "4                       -2.473171    -0.126298                1.117723   \n",
       "\n",
       "   Father's qualification  ...  Curricular units 2nd sem (credited)  \\\n",
       "0               -0.669778  ...                            -0.282442   \n",
       "1               -1.256427  ...                            -0.282442   \n",
       "2                0.959802  ...                            -0.282442   \n",
       "3                0.959802  ...                            -0.282442   \n",
       "4                1.024985  ...                            -0.282442   \n",
       "\n",
       "   Curricular units 2nd sem (enrolled)  \\\n",
       "0                            -2.838337   \n",
       "1                            -0.105726   \n",
       "2                            -0.105726   \n",
       "3                            -0.105726   \n",
       "4                            -0.105726   \n",
       "\n",
       "   Curricular units 2nd sem (evaluations)  \\\n",
       "0                               -2.042630   \n",
       "1                               -0.522682   \n",
       "2                               -2.042630   \n",
       "3                                0.490616   \n",
       "4                               -0.522682   \n",
       "\n",
       "   Curricular units 2nd sem (approved)  Curricular units 2nd sem (grade)  \\\n",
       "0                            -1.471527                         -1.963489   \n",
       "1                             0.518904                          0.659562   \n",
       "2                            -1.471527                         -1.963489   \n",
       "3                             0.187165                          0.416450   \n",
       "4                             0.518904                          0.531608   \n",
       "\n",
       "   Curricular units 2nd sem (without evaluations)  Unemployment rate  \\\n",
       "0                                       -0.199441          -0.287638   \n",
       "1                                       -0.199441           0.876222   \n",
       "2                                       -0.199441          -0.287638   \n",
       "3                                       -0.199441          -0.813253   \n",
       "4                                       -0.199441           0.876222   \n",
       "\n",
       "   Inflation rate       GDP  Target  \n",
       "0        0.124386  0.765761       0  \n",
       "1       -1.105222  0.347199       2  \n",
       "2        0.124386  0.765761       0  \n",
       "3       -1.466871 -1.375511       2  \n",
       "4       -1.105222  0.347199       2  \n",
       "\n",
       "[5 rows x 37 columns]"
      ]
     },
     "execution_count": 9,
     "metadata": {},
     "output_type": "execute_result"
    }
   ],
   "source": [
    "#Redimensioando com a Padronização\n",
    "padronizar = StandardScaler()\n",
    "estudantes.iloc[:,:36] = padronizar.fit_transform(estudantes.iloc[:,:36])\n",
    "estudantes.head()"
   ]
  },
  {
   "cell_type": "code",
   "execution_count": 10,
   "metadata": {},
   "outputs": [
    {
     "data": {
      "text/plain": [
       "array([0, 2, 0, ..., 0, 2, 2])"
      ]
     },
     "execution_count": 10,
     "metadata": {},
     "output_type": "execute_result"
    }
   ],
   "source": [
    "#Separando entre clase e previsores\n",
    "previsores = estudantes.iloc[:, 0:36].values\n",
    "classe =estudantes.iloc[:, 36].values\n",
    "classe"
   ]
  },
  {
   "cell_type": "code",
   "execution_count": 11,
   "metadata": {},
   "outputs": [],
   "source": [
    "X_train, X_test, y_train,y_test = train_test_split(previsores, classe, test_size=0.3, random_state=42)"
   ]
  },
  {
   "cell_type": "markdown",
   "metadata": {},
   "source": [
    "##### CRIANDO MODELOS"
   ]
  },
  {
   "cell_type": "code",
   "execution_count": 12,
   "metadata": {},
   "outputs": [
    {
     "name": "stdout",
     "output_type": "stream",
     "text": [
      "4\n"
     ]
    }
   ],
   "source": [
    "n_estimators=500\n",
    "learning_rate=0.01\n",
    "subsample=1\n",
    "max_depth=6\n",
    "random_state=42\n",
    "\n",
    "clf = [ GaussianNB(), \n",
    "    DecisionTreeClassifier(random_state=42),  \n",
    "    RandomForestClassifier(\n",
    "    n_estimators=500, \n",
    "    min_samples_leaf=25, random_state=42), \n",
    "\n",
    "    GradientBoostingClassifier(\n",
    "    n_estimators=n_estimators,\n",
    "    learning_rate=learning_rate,\n",
    "    subsample=subsample,\n",
    "    max_depth=max_depth,\n",
    "    random_state=random_state\n",
    ")]\n",
    "print(len(clf))"
   ]
  },
  {
   "cell_type": "code",
   "execution_count": 13,
   "metadata": {},
   "outputs": [],
   "source": [
    "lista_clf=[]\n",
    "for i in range(len(clf)):\n",
    "    modelo = clf[i]\n",
    "    modelo = modelo.fit(X_train, y_train)\n",
    "    lista_clf.append(modelo)\n",
    "    "
   ]
  },
  {
   "cell_type": "code",
   "execution_count": 14,
   "metadata": {},
   "outputs": [],
   "source": [
    "lista_prev =[]\n",
    "for item in lista_clf:\n",
    "    previsao = item.predict(X_test)\n",
    "    lista_prev.append(previsao)\n",
    "    "
   ]
  },
  {
   "cell_type": "code",
   "execution_count": 15,
   "metadata": {},
   "outputs": [
    {
     "name": "stdout",
     "output_type": "stream",
     "text": [
      "Naive Bayes: 0.69\n",
      "Árvore de Decisão: 0.66\n",
      "Floresta de Decisão: 0.74\n",
      "XGBoost: 0.76\n"
     ]
    }
   ],
   "source": [
    "lista_classificadores = [\"Naive Bayes\", \"Árvore de Decisão\",\"Floresta de Decisão\", \"XGBoost\"]\n",
    "contador=0\n",
    "for item in lista_prev:\n",
    "    acuracia = accuracy_score(y_test, item)\n",
    "    mod = lista_classificadores[contador]\n",
    "    print(f\"{mod}: {round(acuracia,2)}\")\n",
    "    contador+=1"
   ]
  },
  {
   "cell_type": "code",
   "execution_count": 16,
   "metadata": {},
   "outputs": [
    {
     "data": {
      "image/png": "[encoded data removed]",
      "text/plain": [
       "<Figure size 432x288 with 2 Axes>"
      ]
     },
     "metadata": {
      "needs_background": "light"
     },
     "output_type": "display_data"
    },
    {
     "data": {
      "text/plain": [
       "<Figure size 432x288 with 0 Axes>"
      ]
     },
     "metadata": {},
     "output_type": "display_data"
    }
   ],
   "source": [
    "#Opção com Saborn\n",
    "confusao_matrix = confusion_matrix(y_test, lista_prev[3])\n",
    "matriz= sns.heatmap(confusao_matrix, annot=True, cmap=\"Blues\")\n",
    "plt.xlabel(\"Previsto\")\n",
    "plt.ylabel(\"Real\")\n",
    "plt.figure()\n",
    "\n",
    "plt.show()\n",
    "# plt.savefig(\"confusao.png\")\n"
   ]
  },
  {
   "cell_type": "code",
   "execution_count": 17,
   "metadata": {},
   "outputs": [
    {
     "data": {
      "image/png": "[encoded data removed]",
      "text/plain": [
       "<Figure size 432x288 with 2 Axes>"
      ]
     },
     "metadata": {
      "needs_background": "light"
     },
     "output_type": "display_data"
    }
   ],
   "source": [
    "#Opção 2\n",
    "categorias= [\"Dropout\", \"Enrolled\", \"Graduate\"]\n",
    "confusao = ConfusionMatrixDisplay(confusao_matrix, display_labels=categorias)\n",
    "confusao.plot()\n",
    "#Salvando visualização\n",
    "plt.savefig(\"MatrizConfusao.png\")\n",
    "\n",
    "#opção3 usando plot_confusion_matrix(modelo, teste, previsao)"
   ]
  },
  {
   "cell_type": "code",
   "execution_count": 18,
   "metadata": {},
   "outputs": [
    {
     "name": "stdout",
     "output_type": "stream",
     "text": [
      "Modelo:  ee131226072b47a89985c7c8224929c8\n"
     ]
    }
   ],
   "source": [
    "\n",
    "mlflow.set_experiment(\"BestModel\")\n",
    "with mlflow.start_run():\n",
    "    #logando métricas\n",
    "    mlflow.log_metric(\"acuracia\", acuracia)\n",
    "\n",
    "    #logando parametros\n",
    "    mlflow.log_param(\"n_estimators\",n_estimators)\n",
    "    mlflow.log_param(\"learning_rate\", learning_rate)\n",
    "    mlflow.log_param(\"subsample\", subsample)\n",
    "    mlflow.log_param(\"max_depth\", max_depth)\n",
    "    mlflow.log_param(\"random_state\", random_state)\n",
    "\n",
    "    #Imagemens\n",
    "    mlflow.log_artifact(\"MatrizConfusao.png\")\n",
    "   \n",
    "\n",
    "    #Modelo\n",
    "    mlflow.sklearn.log_model(lista_clf[3],\"XGBoost\")\n",
    "    print(\"Modelo: \",mlflow.active_run().info.run_uuid)\n",
    "\n",
    "\n",
    "    mlflow.end_run()"
   ]
  },
  {
   "cell_type": "markdown",
   "metadata": {},
   "source": [
    "#### CRIANDO ESTRTURA EM CLASSE PARA BUSCAR NO XGBOOT UM BOM RESULTADO"
   ]
  },
  {
   "cell_type": "code",
   "execution_count": 43,
   "metadata": {},
   "outputs": [],
   "source": [
    "class ModeloMl:\n",
    "    def __init__(self, estimadores, aprendizado, random_state, max_depth):\n",
    "        self._n_estimadores = estimadores\n",
    "        self._learning_rate = aprendizado\n",
    "        self._random_state=random_state\n",
    "        #self._subsample = subsample\n",
    "        self._max_depth = max_depth\n",
    "\n",
    "    def procurar(self):\n",
    "        mlflow.set_experiment(\"ProcuraBest\")\n",
    "        with mlflow.start_run():\n",
    "\n",
    "            #cirando modelo\n",
    "            modelo = GradientBoostingClassifier(n_estimators=self._n_estimadores,\n",
    "            learning_rate=self._learning_rate,\n",
    "            max_depth=self._max_depth,\n",
    "            #subsample=self._subsample,\n",
    "            random_state=self._random_state)\n",
    "\n",
    "            modelo = modelo.fit(X_train, y_train)\n",
    "\n",
    "            #criando artefatos gráficos\n",
    "            previsao = modelo.predict(X_test)\n",
    "            mc = confusion_matrix(y_test, previsao)\n",
    "            labels_name = [\"Dropout\", \"Enrolled\", \"Graduated\"]\n",
    "            matgraph = ConfusionMatrixDisplay(mc, display_labels=labels_name)\n",
    "            matgraph.plot()\n",
    "            plt.savefig(\"matgraph.png\")\n",
    "\n",
    "            #salvando parametros\n",
    "            mlflow.log_param(\"n_estimators\", self._n_estimadores)\n",
    "            mlflow.log_param(\"learning_rate\", self._learning_rate)\n",
    "            mlflow.log_param(\"random_state\", self._random_state)\n",
    "            #mlflow.log_param(\"subsample\", self._subsample)\n",
    "            mlflow.log_param(\"maxdepth\", self._max_depth)\n",
    "\n",
    "            #fazendo metricas\n",
    "            acuracia = accuracy_score(y_test, previsao)\n",
    "            #precisoa acuracia e f1 não aceitam binary então precisa mudar para micro, macro,weighted ou sample\n",
    "            precisao = precision_score(y_test, previsao, average=\"macro\")\n",
    "            recall = recall_score(y_test, previsao, average=\"macro\")\n",
    "            f1score = f1_score(y_test, previsao, average=\"macro\")\n",
    "            #salvando métricas\n",
    "            mlflow.log_metric(\"acuracia\",acuracia)\n",
    "            mlflow.log_metric(\"precisao\",precisao)\n",
    "            mlflow.log_metric(\"recall\",recall)\n",
    "            mlflow.log_metric(\"f1_score\",f1score)\n",
    "\n",
    "            #salvando gráficos\n",
    "            mlflow.log_artifact(\"matgraph.png\")\n",
    "            \n",
    "            mlflow.sklearn.log_model(modelo, \"XGBoost\")\n",
    "            print(\"Modelo\", mlflow.active_run().info.run_uuid)\n",
    "        mlflow.end_run()\n",
    "    \n"
   ]
  },
  {
   "cell_type": "markdown",
   "metadata": {},
   "source": [
    "#### ANALISANDO FEATURES IMPORTANTES"
   ]
  },
  {
   "cell_type": "code",
   "execution_count": 59,
   "metadata": {},
   "outputs": [
    {
     "data": {
      "text/plain": [
       "array([0.0046268 , 0.02285907, 0.01905171, 0.03281245, 0.00865449,\n",
       "       0.00618318, 0.02282307, 0.00473441, 0.02496005, 0.02600981,\n",
       "       0.02958521, 0.02369758, 0.02937084, 0.01117108, 0.00230953,\n",
       "       0.01130251, 0.0331755 , 0.01288504, 0.01615993, 0.02525548,\n",
       "       0.00265967, 0.01054203, 0.02891799, 0.02340124, 0.20375504,\n",
       "       0.02977156, 0.00570081, 0.00694279, 0.01733798, 0.0287931 ,\n",
       "       0.16814972, 0.03791722, 0.00539649, 0.01955753, 0.0211975 ,\n",
       "       0.02233161])"
      ]
     },
     "execution_count": 59,
     "metadata": {},
     "output_type": "execute_result"
    }
   ],
   "source": [
    "modelo_extra = ExtraTreeClassifier()\n",
    "modelo_extra = modelo_extra.fit(X_train, y_train)\n",
    "\n",
    "prevendo_extras = modelo_extra.predict(X_test)\n",
    "modelo_extra.feature_importances_\n"
   ]
  },
  {
   "cell_type": "markdown",
   "metadata": {},
   "source": [
    "#### VARREDURA DE MELHORES MODELOS COM LAÇO"
   ]
  },
  {
   "cell_type": "code",
   "execution_count": 47,
   "metadata": {},
   "outputs": [
    {
     "name": "stdout",
     "output_type": "stream",
     "text": [
      "Modelo f6218d5cb1fd4308b6f7a66ff8592f33\n",
      "Modelo 57f812bf1e664476a3f3eee7c749a335\n",
      "Modelo 09e9ae820719457888965104f6253229\n",
      "Modelo 835eb288256140b4bed24648775a6a62\n",
      "Modelo e1b9a12d901444dfad696ef944149893\n",
      "Modelo a7a25ea25b734ce4be711e8872408abb\n",
      "Modelo def61052e23c43f5846de3a85338d9d8\n",
      "Modelo e84e8db8c6eb4e0488512a38abd4a68f\n",
      "Modelo abb764ba237647bc8040286841759e25\n",
      "Modelo 3580d87467e746a5abae7b9d0fb0d679\n"
     ]
    },
    {
     "data": {
      "image/png": "[encoded data removed]",
      "text/plain": [
       "<Figure size 432x288 with 2 Axes>"
      ]
     },
     "metadata": {
      "needs_background": "light"
     },
     "output_type": "display_data"
    },
    {
     "data": {
      "image/png": "[encoded data removed]",
      "text/plain": [
       "<Figure size 432x288 with 2 Axes>"
      ]
     },
     "metadata": {
      "needs_background": "light"
     },
     "output_type": "display_data"
    },
    {
     "data": {
      "image/png": "[encoded data removed]",
      "text/plain": [
       "<Figure size 432x288 with 2 Axes>"
      ]
     },
     "metadata": {
      "needs_background": "light"
     },
     "output_type": "display_data"
    },
    {
     "data": {
      "image/png": "[encoded data removed]",
      "text/plain": [
       "<Figure size 432x288 with 2 Axes>"
      ]
     },
     "metadata": {
      "needs_background": "light"
     },
     "output_type": "display_data"
    },
    {
     "data": {
      "image/png": "[encoded data removed]",
      "text/plain": [
       "<Figure size 432x288 with 2 Axes>"
      ]
     },
     "metadata": {
      "needs_background": "light"
     },
     "output_type": "display_data"
    },
    {
     "data": {
      "image/png": "[encoded data removed]",
      "text/plain": [
       "<Figure size 432x288 with 2 Axes>"
      ]
     },
     "metadata": {
      "needs_background": "light"
     },
     "output_type": "display_data"
    },
    {
     "data": {
      "image/png": "[encoded data removed]",
      "text/plain": [
       "<Figure size 432x288 with 2 Axes>"
      ]
     },
     "metadata": {
      "needs_background": "light"
     },
     "output_type": "display_data"
    },
    {
     "data": {
      "image/png": "[encoded data removed]",
      "text/plain": [
       "<Figure size 432x288 with 2 Axes>"
      ]
     },
     "metadata": {
      "needs_background": "light"
     },
     "output_type": "display_data"
    },
    {
     "data": {
      "image/png": "[encoded data removed]",
      "text/plain": [
       "<Figure size 432x288 with 2 Axes>"
      ]
     },
     "metadata": {
      "needs_background": "light"
     },
     "output_type": "display_data"
    },
    {
     "data": {
      "image/png": "[encoded data removed]",
      "text/plain": [
       "<Figure size 432x288 with 2 Axes>"
      ]
     },
     "metadata": {
      "needs_background": "light"
     },
     "output_type": "display_data"
    }
   ],
   "source": [
    "contador =1000\n",
    "apr = 0.01\n",
    "prf= 10\n",
    "for elemento in range(10):\n",
    "    mp = ModeloMl(1000,apr,42,prf)\n",
    "    mp.procurar()\n",
    "    apr+=0.01\n",
    "    prf-=1"
   ]
  },
  {
   "cell_type": "markdown",
   "metadata": {},
   "source": [
    "#### MELHOR MODELO ATÉ O MOMENTO"
   ]
  },
  {
   "cell_type": "code",
   "execution_count": 61,
   "metadata": {},
   "outputs": [
    {
     "name": "stdout",
     "output_type": "stream",
     "text": [
      "Modelo 823771f7eac7470fa80dbf6e0320f079\n"
     ]
    },
    {
     "data": {
      "image/png": "[encoded data removed]",
      "text/plain": [
       "<Figure size 432x288 with 2 Axes>"
      ]
     },
     "metadata": {
      "needs_background": "light"
     },
     "output_type": "display_data"
    }
   ],
   "source": [
    "mp = ModeloMl(100,0.1,42,5)\n",
    "mp.procurar()"
   ]
  },
  {
   "cell_type": "markdown",
   "metadata": {},
   "source": [
    "##### use mlflow  ui --port 5000"
   ]
  },
  {
   "cell_type": "markdown",
   "metadata": {},
   "source": [
    "DOCUMENTAÇÂO PRECISION: https://scikit-learn.org/stable/modules/generated/sklearn.metrics.precision_score.html"
   ]
  }
 ],
 "metadata": {
  "interpreter": {
   "hash": "40b4206a6c90dbff8d777940802b88bf8b103f5a837169c9f4794b1aa4414424"
  },
  "kernelspec": {
   "display_name": "Python 3.10.1 ('classificador': venv)",
   "language": "python",
   "name": "python3"
  },
  "language_info": {
   "codemirror_mode": {
    "name": "ipython",
    "version": 3
   },
   "file_extension": ".py",
   "mimetype": "text/x-python",
   "name": "python",
   "nbconvert_exporter": "python",
   "pygments_lexer": "ipython3",
   "version": "3.10.1"
  },
  "orig_nbformat": 4
 },
 "nbformat": 4,
 "nbformat_minor": 2
}
